{
 "cells": [
  {
   "cell_type": "markdown",
   "metadata": {},
   "source": [
    "${\\displaystyle \\int (x^4 + 3x^2 -6) e^x} =$\n",
    "\n",
    "$= {\\displaystyle \\int x^4 e^x + \\int 3x^2 e^x + \\int -6e^x}$\n",
    "\n",
    "Ricordiamo la formula di integrazione per parti:\n",
    "\n",
    "${\\displaystyle \\int f(x) g'(x) = f(x) g(x) - \\int f'(x) g(x)}$\n",
    "\n",
    "Lavoriamo sui singoli integrali:"
   ]
  },
  {
   "cell_type": "markdown",
   "metadata": {},
   "source": [
    "${\\displaystyle \\int x^4 e^x} =$\n",
    "\n",
    "Integrando per parti: $f(x) = x^4, g(x) = e^x, f'(x) = 4x^3, g'(x) = e^x$\n",
    "\n",
    "$={\\displaystyle x^4 e^x - \\int 4x^3 e^x}$\n",
    "\n",
    "Integrando per parti nuovamente: $f(x) = 4x^3, g(x) = e^x, f'(x) = 12x^2, g'(x) = e^x$\n",
    "\n",
    "$={\\displaystyle x^4 e^x - (4x^3 e^x - \\int 12x^2 e^x)}$\n",
    "\n",
    "Integrando per parti nuovamente: $f(x) = 12x^2, g(x) = e^x, f'(x) = 24x, g'(x) = e^x$\n",
    "\n",
    "$={\\displaystyle x^4 e^x - (4x^3 e^x - (12x^2 e^x - \\int 24x e^x))}$\n",
    "\n",
    "Integrando per parti nuovamente: $f(x) = 24x, g(x) = e^x, f'(x) = 24, g'(x) = e^x$\n",
    "\n",
    "$={\\displaystyle x^4 e^x - (4x^3 e^x - (12x^2 e^x - (24x e^x - \\int 24e^x)))} =$\n",
    "\n",
    "$= x^4 e^x - (4x^3 e^x - (12x^2 e^x - (24x e^x - 24e^x))) =$\n",
    "\n",
    "$= x^4 e^x - 4x^3 e^x + 12x^2 e^x - 24x e^x + 24e^x =$\n",
    "\n",
    "$= e^x (x^4 -4x^3 + 12x^2 -24x + 24)$"
   ]
  },
  {
   "cell_type": "markdown",
   "metadata": {},
   "source": [
    "${\\displaystyle \\int 3x^2 e^x = 3 \\int x^2 e^x =}$\n",
    "\n",
    "Integrando per parti: $f(x) = x^2, g(x) = e^x, f'(x) = 2x, g'(x) = e^x$\n",
    "\n",
    "$= {\\displaystyle 3 (x^2 e^x - \\int 2x e^x) = 3 (x^2 e^x - 2 \\int x e^x)}$\n",
    "\n",
    "Integrando per parti: $f(x) = x, g(x) = e^x, f'(x) = 1, g'(x) = e^x$\n",
    "\n",
    "$= 3 (x^2 e^x - 2 (x e^x - (e^x))) =$\n",
    "\n",
    "$= 3 x^2 e^x -6 x e^x + 6e^x =$\n",
    "\n",
    "$= e^x(3 x^2 - 6 x + 6)$"
   ]
  },
  {
   "cell_type": "markdown",
   "metadata": {},
   "source": [
    "${\\displaystyle \\int -6 e^x} =$\n",
    "\n",
    "${\\displaystyle -6 \\int e^x} =$\n",
    "\n",
    "$= -6e^x$"
   ]
  },
  {
   "cell_type": "markdown",
   "metadata": {},
   "source": [
    "Unendo i risultati:\n",
    "\n",
    "$= e^x (x^4 -4x^3 + 12x^2 -24x + 24) + e^x(3x^2 - 6x + 6) - e^x(6) =$\n",
    "\n",
    "$= e^x(x^4 - 4x^3 +15x^2 -30x +24)$"
   ]
  },
  {
   "cell_type": "markdown",
   "metadata": {},
   "source": [
    "Infatti: https://www.integral-calculator.com/#expr=%28x%5E4%20%2B%203x%5E2%20-6%29%20e%5Ex"
   ]
  }
 ],
 "metadata": {
  "language_info": {
   "name": "python"
  }
 },
 "nbformat": 4,
 "nbformat_minor": 2
}
