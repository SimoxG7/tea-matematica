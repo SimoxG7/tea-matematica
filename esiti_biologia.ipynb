{
 "cells": [
  {
   "cell_type": "code",
   "execution_count": 1,
   "metadata": {},
   "outputs": [],
   "source": [
    "import numpy as np\n",
    "import pandas as pd\n",
    "import matplotlib.pyplot as plt\n",
    "import csv\n",
    "import math\n",
    "import random\n",
    "from matplotlib import collections as mc\n",
    "import scipy.stats as st\n",
    "from scipy import stats\n",
    "import statsmodels.api as sm\n",
    "from collections import defaultdict\n",
    "from scipy.constants import golden\n",
    "import gc\n",
    "from io import StringIO\n",
    "# gc.collect()"
   ]
  },
  {
   "cell_type": "markdown",
   "metadata": {},
   "source": [
    "# Esiti Biologia"
   ]
  },
  {
   "cell_type": "code",
   "execution_count": 2,
   "metadata": {},
   "outputs": [
    {
     "data": {
      "text/html": [
       "<div>\n",
       "<style scoped>\n",
       "    .dataframe tbody tr th:only-of-type {\n",
       "        vertical-align: middle;\n",
       "    }\n",
       "\n",
       "    .dataframe tbody tr th {\n",
       "        vertical-align: top;\n",
       "    }\n",
       "\n",
       "    .dataframe thead th {\n",
       "        text-align: right;\n",
       "    }\n",
       "</style>\n",
       "<table border=\"1\" class=\"dataframe\">\n",
       "  <thead>\n",
       "    <tr style=\"text-align: right;\">\n",
       "      <th></th>\n",
       "      <th>primo_voto_nov</th>\n",
       "      <th>primo_errate</th>\n",
       "      <th>primo_vuote</th>\n",
       "      <th>primo_corrette</th>\n",
       "      <th>primo_vegetale</th>\n",
       "      <th>primo_animale</th>\n",
       "      <th>primo_voto_gen</th>\n",
       "      <th>secondo_errate</th>\n",
       "      <th>secondo_vuote</th>\n",
       "      <th>secondo_corrette</th>\n",
       "      <th>secondo_vegetale</th>\n",
       "      <th>secondo_animale</th>\n",
       "      <th>secondo_voto</th>\n",
       "      <th>voto_medio</th>\n",
       "    </tr>\n",
       "  </thead>\n",
       "  <tbody>\n",
       "    <tr>\n",
       "      <th>count</th>\n",
       "      <td>100.000000</td>\n",
       "      <td>52.000000</td>\n",
       "      <td>52.000000</td>\n",
       "      <td>52.000000</td>\n",
       "      <td>51.000000</td>\n",
       "      <td>52.000000</td>\n",
       "      <td>52.000000</td>\n",
       "      <td>35.000000</td>\n",
       "      <td>35.000000</td>\n",
       "      <td>35.000000</td>\n",
       "      <td>35.000000</td>\n",
       "      <td>34.000000</td>\n",
       "      <td>35.000000</td>\n",
       "      <td>21.000000</td>\n",
       "    </tr>\n",
       "    <tr>\n",
       "      <th>mean</th>\n",
       "      <td>15.915000</td>\n",
       "      <td>22.153846</td>\n",
       "      <td>20.750000</td>\n",
       "      <td>37.096154</td>\n",
       "      <td>19.916667</td>\n",
       "      <td>12.028846</td>\n",
       "      <td>16.621154</td>\n",
       "      <td>20.628571</td>\n",
       "      <td>18.028571</td>\n",
       "      <td>41.342857</td>\n",
       "      <td>20.107143</td>\n",
       "      <td>16.558824</td>\n",
       "      <td>19.145714</td>\n",
       "      <td>22.952381</td>\n",
       "    </tr>\n",
       "    <tr>\n",
       "      <th>std</th>\n",
       "      <td>5.682925</td>\n",
       "      <td>9.738512</td>\n",
       "      <td>11.189762</td>\n",
       "      <td>9.618731</td>\n",
       "      <td>5.474867</td>\n",
       "      <td>5.848507</td>\n",
       "      <td>5.496927</td>\n",
       "      <td>8.775252</td>\n",
       "      <td>12.067179</td>\n",
       "      <td>12.607054</td>\n",
       "      <td>7.863562</td>\n",
       "      <td>6.553122</td>\n",
       "      <td>6.920317</td>\n",
       "      <td>3.707778</td>\n",
       "    </tr>\n",
       "    <tr>\n",
       "      <th>min</th>\n",
       "      <td>1.400000</td>\n",
       "      <td>4.000000</td>\n",
       "      <td>0.000000</td>\n",
       "      <td>10.000000</td>\n",
       "      <td>5.750000</td>\n",
       "      <td>1.750000</td>\n",
       "      <td>4.500000</td>\n",
       "      <td>7.000000</td>\n",
       "      <td>4.000000</td>\n",
       "      <td>12.000000</td>\n",
       "      <td>8.500000</td>\n",
       "      <td>4.250000</td>\n",
       "      <td>7.400000</td>\n",
       "      <td>18.000000</td>\n",
       "    </tr>\n",
       "    <tr>\n",
       "      <th>25%</th>\n",
       "      <td>12.200000</td>\n",
       "      <td>14.750000</td>\n",
       "      <td>13.750000</td>\n",
       "      <td>30.000000</td>\n",
       "      <td>16.125000</td>\n",
       "      <td>7.687500</td>\n",
       "      <td>13.525000</td>\n",
       "      <td>14.000000</td>\n",
       "      <td>9.500000</td>\n",
       "      <td>33.000000</td>\n",
       "      <td>13.875000</td>\n",
       "      <td>12.062500</td>\n",
       "      <td>14.450000</td>\n",
       "      <td>19.000000</td>\n",
       "    </tr>\n",
       "    <tr>\n",
       "      <th>50%</th>\n",
       "      <td>16.300000</td>\n",
       "      <td>22.000000</td>\n",
       "      <td>18.000000</td>\n",
       "      <td>37.000000</td>\n",
       "      <td>20.750000</td>\n",
       "      <td>9.875000</td>\n",
       "      <td>15.550000</td>\n",
       "      <td>20.000000</td>\n",
       "      <td>16.000000</td>\n",
       "      <td>40.000000</td>\n",
       "      <td>18.000000</td>\n",
       "      <td>16.375000</td>\n",
       "      <td>18.100000</td>\n",
       "      <td>24.000000</td>\n",
       "    </tr>\n",
       "    <tr>\n",
       "      <th>75%</th>\n",
       "      <td>20.050000</td>\n",
       "      <td>27.250000</td>\n",
       "      <td>30.000000</td>\n",
       "      <td>42.250000</td>\n",
       "      <td>23.500000</td>\n",
       "      <td>15.562500</td>\n",
       "      <td>19.350000</td>\n",
       "      <td>27.500000</td>\n",
       "      <td>22.500000</td>\n",
       "      <td>51.000000</td>\n",
       "      <td>25.000000</td>\n",
       "      <td>22.562500</td>\n",
       "      <td>24.650000</td>\n",
       "      <td>25.000000</td>\n",
       "    </tr>\n",
       "    <tr>\n",
       "      <th>max</th>\n",
       "      <td>27.300000</td>\n",
       "      <td>46.000000</td>\n",
       "      <td>47.000000</td>\n",
       "      <td>60.000000</td>\n",
       "      <td>30.750000</td>\n",
       "      <td>26.750000</td>\n",
       "      <td>29.900000</td>\n",
       "      <td>41.000000</td>\n",
       "      <td>59.000000</td>\n",
       "      <td>63.000000</td>\n",
       "      <td>34.500000</td>\n",
       "      <td>28.000000</td>\n",
       "      <td>31.800000</td>\n",
       "      <td>29.000000</td>\n",
       "    </tr>\n",
       "  </tbody>\n",
       "</table>\n",
       "</div>"
      ],
      "text/plain": [
       "       primo_voto_nov  primo_errate  primo_vuote  primo_corrette  \\\n",
       "count      100.000000     52.000000    52.000000       52.000000   \n",
       "mean        15.915000     22.153846    20.750000       37.096154   \n",
       "std          5.682925      9.738512    11.189762        9.618731   \n",
       "min          1.400000      4.000000     0.000000       10.000000   \n",
       "25%         12.200000     14.750000    13.750000       30.000000   \n",
       "50%         16.300000     22.000000    18.000000       37.000000   \n",
       "75%         20.050000     27.250000    30.000000       42.250000   \n",
       "max         27.300000     46.000000    47.000000       60.000000   \n",
       "\n",
       "       primo_vegetale  primo_animale  primo_voto_gen  secondo_errate  \\\n",
       "count       51.000000      52.000000       52.000000       35.000000   \n",
       "mean        19.916667      12.028846       16.621154       20.628571   \n",
       "std          5.474867       5.848507        5.496927        8.775252   \n",
       "min          5.750000       1.750000        4.500000        7.000000   \n",
       "25%         16.125000       7.687500       13.525000       14.000000   \n",
       "50%         20.750000       9.875000       15.550000       20.000000   \n",
       "75%         23.500000      15.562500       19.350000       27.500000   \n",
       "max         30.750000      26.750000       29.900000       41.000000   \n",
       "\n",
       "       secondo_vuote  secondo_corrette  secondo_vegetale  secondo_animale  \\\n",
       "count      35.000000         35.000000         35.000000        34.000000   \n",
       "mean       18.028571         41.342857         20.107143        16.558824   \n",
       "std        12.067179         12.607054          7.863562         6.553122   \n",
       "min         4.000000         12.000000          8.500000         4.250000   \n",
       "25%         9.500000         33.000000         13.875000        12.062500   \n",
       "50%        16.000000         40.000000         18.000000        16.375000   \n",
       "75%        22.500000         51.000000         25.000000        22.562500   \n",
       "max        59.000000         63.000000         34.500000        28.000000   \n",
       "\n",
       "       secondo_voto  voto_medio  \n",
       "count     35.000000   21.000000  \n",
       "mean      19.145714   22.952381  \n",
       "std        6.920317    3.707778  \n",
       "min        7.400000   18.000000  \n",
       "25%       14.450000   19.000000  \n",
       "50%       18.100000   24.000000  \n",
       "75%       24.650000   25.000000  \n",
       "max       31.800000   29.000000  "
      ]
     },
     "execution_count": 2,
     "metadata": {},
     "output_type": "execute_result"
    }
   ],
   "source": [
    "df = pd.read_csv(\"Risultati EBPP 24 GENNAIO 2025.csv\", sep=\";\", decimal=\".\")\n",
    "df.describe()"
   ]
  },
  {
   "cell_type": "markdown",
   "metadata": {},
   "source": [
    "---"
   ]
  },
  {
   "cell_type": "markdown",
   "metadata": {},
   "source": [
    "Numero e percentuale di studenti che è stata complessivamente sufficiente nell'esame:"
   ]
  },
  {
   "cell_type": "code",
   "execution_count": 3,
   "metadata": {},
   "outputs": [
    {
     "name": "stdout",
     "output_type": "stream",
     "text": [
      "21 - 17.65%\n"
     ]
    }
   ],
   "source": [
    "print(str(df[\"voto_medio\"].count()) + \" - \" + str(round((df[\"voto_medio\"].count() / df[\"voto_medio\"].size) * 100, 2)) + \"%\")"
   ]
  },
  {
   "cell_type": "markdown",
   "metadata": {},
   "source": [
    "---"
   ]
  },
  {
   "cell_type": "markdown",
   "metadata": {},
   "source": [
    "Numero e percentuale di studenti che è stata sufficiente nel primo esame (sia Novembre, che Gennaio):"
   ]
  },
  {
   "cell_type": "code",
   "execution_count": 4,
   "metadata": {},
   "outputs": [
    {
     "name": "stdout",
     "output_type": "stream",
     "text": [
      "53 - 44.54%\n"
     ]
    }
   ],
   "source": [
    "print(str(df[(df[\"primo_voto_nov\"] >= 18) | (df[\"primo_voto_gen\"] >= 18)][\"matricola\"].count()) + \" - \" + str(round((df[(df[\"primo_voto_nov\"] >= 18) | (df[\"primo_voto_gen\"] >= 18)][\"matricola\"].count() / df[\"matricola\"].count()) * 100, 2)) + \"%\")"
   ]
  },
  {
   "cell_type": "markdown",
   "metadata": {},
   "source": [
    "---"
   ]
  },
  {
   "cell_type": "markdown",
   "metadata": {},
   "source": [
    "Numero e percentuale di studenti che è stata sufficiente nel primo esame a Novembre:"
   ]
  },
  {
   "cell_type": "code",
   "execution_count": 5,
   "metadata": {},
   "outputs": [
    {
     "name": "stdout",
     "output_type": "stream",
     "text": [
      "37 - 31.09%\n"
     ]
    }
   ],
   "source": [
    "print(str(df[(df[\"primo_voto_nov\"] >= 18)][\"matricola\"].count()) + \" - \" + str(round((df[(df[\"primo_voto_nov\"] >= 18)][\"matricola\"].count() / df[\"matricola\"].count()) * 100, 2)) + \"%\")"
   ]
  },
  {
   "cell_type": "markdown",
   "metadata": {},
   "source": [
    "---"
   ]
  },
  {
   "cell_type": "markdown",
   "metadata": {},
   "source": [
    "Numero e percentuale di studenti che è stata sufficiente nel il primo esame a Gennaio:"
   ]
  },
  {
   "cell_type": "code",
   "execution_count": 6,
   "metadata": {},
   "outputs": [
    {
     "name": "stdout",
     "output_type": "stream",
     "text": [
      "16 - 13.45%\n"
     ]
    }
   ],
   "source": [
    "print(str(df[(df[\"primo_voto_gen\"] >= 18)][\"matricola\"].count()) + \" - \" + str(round((df[(df[\"primo_voto_gen\"] >= 18)][\"matricola\"].count() / df[\"matricola\"].count()) * 100, 2)) + \"%\")"
   ]
  },
  {
   "cell_type": "markdown",
   "metadata": {},
   "source": [
    "---"
   ]
  },
  {
   "cell_type": "markdown",
   "metadata": {},
   "source": [
    "Numero e percentuale di studenti che è stata sufficiente nel secondo esame:"
   ]
  },
  {
   "cell_type": "code",
   "execution_count": 7,
   "metadata": {},
   "outputs": [
    {
     "name": "stdout",
     "output_type": "stream",
     "text": [
      "18 - 15.13%\n"
     ]
    }
   ],
   "source": [
    "print(str(df[(df[\"secondo_voto\"] >= 18)][\"matricola\"].count()) + \" - \" + str(round((df[(df[\"secondo_voto\"] >= 18)][\"matricola\"].count() / df[\"matricola\"].count()) * 100, 2)) + \"%\")"
   ]
  },
  {
   "cell_type": "markdown",
   "metadata": {},
   "source": [
    "---"
   ]
  },
  {
   "cell_type": "markdown",
   "metadata": {},
   "source": [
    "Medie di risposte nel primo esame:"
   ]
  },
  {
   "cell_type": "code",
   "execution_count": 8,
   "metadata": {},
   "outputs": [
    {
     "name": "stdout",
     "output_type": "stream",
     "text": [
      "Errate: 22.15 - 27.69%\n",
      "Vuote: 20.75 - 25.94%\n",
      "Corrette: 37.1 - 46.37%\n"
     ]
    }
   ],
   "source": [
    "print(\"Errate: \" + str(round(df[\"primo_errate\"].mean(), 2)) + \" - \" + str(round((df[\"primo_errate\"].mean() / 80) * 100, 2)) + \"%\")\n",
    "print(\"Vuote: \" + str(round(df[\"primo_vuote\"].mean(), 2)) + \" - \" + str(round((df[\"primo_vuote\"].mean() / 80) * 100, 2)) + \"%\")\n",
    "print(\"Corrette: \" + str(round(df[\"primo_corrette\"].mean(), 2)) + \" - \" + str(round((df[\"primo_corrette\"].mean() / 80) * 100, 2)) + \"%\")"
   ]
  },
  {
   "cell_type": "markdown",
   "metadata": {},
   "source": [
    "---"
   ]
  },
  {
   "cell_type": "markdown",
   "metadata": {},
   "source": [
    "Medie di risposte nel secondo esame:"
   ]
  },
  {
   "cell_type": "code",
   "execution_count": 9,
   "metadata": {},
   "outputs": [
    {
     "name": "stdout",
     "output_type": "stream",
     "text": [
      "Errate: 20.63 - 25.79%\n",
      "Vuote: 18.03 - 22.54%\n",
      "Corrette: 41.34 - 51.68%\n"
     ]
    }
   ],
   "source": [
    "print(\"Errate: \" + str(round(df[\"secondo_errate\"].mean(), 2)) + \" - \" + str(round((df[\"secondo_errate\"].mean() / 80) * 100, 2)) + \"%\")\n",
    "print(\"Vuote: \" + str(round(df[\"secondo_vuote\"].mean(), 2)) + \" - \" + str(round((df[\"secondo_vuote\"].mean() / 80) * 100, 2)) + \"%\")\n",
    "print(\"Corrette: \" + str(round(df[\"secondo_corrette\"].mean(), 2)) + \" - \" + str(round((df[\"secondo_corrette\"].mean() / 80) * 100, 2)) + \"%\")"
   ]
  },
  {
   "cell_type": "markdown",
   "metadata": {},
   "source": [
    "---"
   ]
  },
  {
   "cell_type": "markdown",
   "metadata": {},
   "source": [
    "Punteggio medio in Biologia Vegetale per il primo esame:"
   ]
  },
  {
   "cell_type": "code",
   "execution_count": 10,
   "metadata": {},
   "outputs": [
    {
     "name": "stdout",
     "output_type": "stream",
     "text": [
      "19.92\n"
     ]
    }
   ],
   "source": [
    "print(str(round(df[\"primo_vegetale\"].mean() , 2)))"
   ]
  },
  {
   "cell_type": "markdown",
   "metadata": {},
   "source": [
    "---"
   ]
  },
  {
   "cell_type": "markdown",
   "metadata": {},
   "source": [
    "Punteggio medio in Biologia Animale per il primo esame:"
   ]
  },
  {
   "cell_type": "code",
   "execution_count": 11,
   "metadata": {},
   "outputs": [
    {
     "name": "stdout",
     "output_type": "stream",
     "text": [
      "12.03\n"
     ]
    }
   ],
   "source": [
    "print(str(round(df[\"primo_animale\"].mean() , 2)))"
   ]
  },
  {
   "cell_type": "markdown",
   "metadata": {},
   "source": [
    "---"
   ]
  },
  {
   "cell_type": "markdown",
   "metadata": {},
   "source": [
    "Punteggio medio in Biologia Vegetale per il secondo esame:"
   ]
  },
  {
   "cell_type": "code",
   "execution_count": 12,
   "metadata": {},
   "outputs": [
    {
     "name": "stdout",
     "output_type": "stream",
     "text": [
      "20.11\n"
     ]
    }
   ],
   "source": [
    "print(str(round(df[\"secondo_vegetale\"].mean() , 2)))"
   ]
  },
  {
   "cell_type": "markdown",
   "metadata": {},
   "source": [
    "---"
   ]
  },
  {
   "cell_type": "markdown",
   "metadata": {},
   "source": [
    "Punteggio medio in Biologia Animale per il secondo esame:"
   ]
  },
  {
   "cell_type": "code",
   "execution_count": 13,
   "metadata": {},
   "outputs": [
    {
     "name": "stdout",
     "output_type": "stream",
     "text": [
      "16.56\n"
     ]
    }
   ],
   "source": [
    "print(str(round(df[\"secondo_animale\"].mean() , 2)))"
   ]
  },
  {
   "cell_type": "markdown",
   "metadata": {},
   "source": [
    "---"
   ]
  },
  {
   "cell_type": "markdown",
   "metadata": {},
   "source": [
    "Distribuzione dei voti di Biologia Vegetale del primo esame:"
   ]
  },
  {
   "cell_type": "code",
   "execution_count": 14,
   "metadata": {},
   "outputs": [
    {
     "data": {
      "image/png": "[encoded data removed]",
      "text/plain": [
       "<Figure size 640x480 with 1 Axes>"
      ]
     },
     "metadata": {},
     "output_type": "display_data"
    }
   ],
   "source": [
    "plt.hist(df[\"primo_vegetale\"], bins=30)\n",
    "plt.xlabel(\"Voto\")\n",
    "plt.ylabel(\"Numero di occorrenze\")\n",
    "plt.show()"
   ]
  },
  {
   "cell_type": "markdown",
   "metadata": {},
   "source": [
    "---"
   ]
  },
  {
   "cell_type": "markdown",
   "metadata": {},
   "source": [
    "Distribuzione dei voti di Biologia Animale del primo esame:"
   ]
  },
  {
   "cell_type": "code",
   "execution_count": 15,
   "metadata": {},
   "outputs": [
    {
     "data": {
      "image/png": "[encoded data removed]",
      "text/plain": [
       "<Figure size 640x480 with 1 Axes>"
      ]
     },
     "metadata": {},
     "output_type": "display_data"
    }
   ],
   "source": [
    "plt.hist(df[\"primo_animale\"], bins=30)\n",
    "plt.xlabel(\"Voto\")\n",
    "plt.ylabel(\"Numero di occorrenze\")\n",
    "plt.show()"
   ]
  },
  {
   "cell_type": "markdown",
   "metadata": {},
   "source": [
    "---"
   ]
  },
  {
   "cell_type": "markdown",
   "metadata": {},
   "source": [
    "Distribuzione dei voti di Biologia Vegetale del secondo esame:"
   ]
  },
  {
   "cell_type": "code",
   "execution_count": 16,
   "metadata": {},
   "outputs": [
    {
     "data": {
      "image/png": "[encoded data removed]",
      "text/plain": [
       "<Figure size 640x480 with 1 Axes>"
      ]
     },
     "metadata": {},
     "output_type": "display_data"
    }
   ],
   "source": [
    "plt.hist(df[\"secondo_vegetale\"], bins=30)\n",
    "plt.xlabel(\"Voto\")\n",
    "plt.ylabel(\"Numero di occorrenze\")\n",
    "plt.show()"
   ]
  },
  {
   "cell_type": "markdown",
   "metadata": {},
   "source": [
    "---"
   ]
  },
  {
   "cell_type": "markdown",
   "metadata": {},
   "source": [
    "Distribuzione dei voti di Biologia Animale del secondo esame:"
   ]
  },
  {
   "cell_type": "code",
   "execution_count": 17,
   "metadata": {},
   "outputs": [
    {
     "data": {
      "image/png": "[encoded data removed]",
      "text/plain": [
       "<Figure size 640x480 with 1 Axes>"
      ]
     },
     "metadata": {},
     "output_type": "display_data"
    }
   ],
   "source": [
    "# df[\"primo_animale\"].value_counts(bins=np.arange(0, 31, 1)).sort_index()\n",
    "plt.hist(df[\"secondo_animale\"], bins=30)\n",
    "plt.xlabel(\"Voto\")\n",
    "plt.ylabel(\"Numero di occorrenze\")\n",
    "plt.show()"
   ]
  },
  {
   "cell_type": "markdown",
   "metadata": {},
   "source": [
    "---"
   ]
  },
  {
   "cell_type": "markdown",
   "metadata": {},
   "source": [
    "Distribuzione dei voti finali:"
   ]
  },
  {
   "cell_type": "code",
   "execution_count": 18,
   "metadata": {},
   "outputs": [
    {
     "data": {
      "image/png": "[encoded data removed]",
      "text/plain": [
       "<Figure size 640x480 with 1 Axes>"
      ]
     },
     "metadata": {},
     "output_type": "display_data"
    }
   ],
   "source": [
    "plt.hist(df[\"voto_medio\"], bins=30)\n",
    "plt.xlabel(\"Voto\")\n",
    "plt.ylabel(\"Numero di occorrenze\")\n",
    "plt.show()"
   ]
  }
 ],
 "metadata": {
  "kernelspec": {
   "display_name": "Python 3",
   "language": "python",
   "name": "python3"
  },
  "language_info": {
   "codemirror_mode": {
    "name": "ipython",
    "version": 3
   },
   "file_extension": ".py",
   "mimetype": "text/x-python",
   "name": "python",
   "nbconvert_exporter": "python",
   "pygments_lexer": "ipython3",
   "version": "3.11.4"
  }
 },
 "nbformat": 4,
 "nbformat_minor": 2
}
